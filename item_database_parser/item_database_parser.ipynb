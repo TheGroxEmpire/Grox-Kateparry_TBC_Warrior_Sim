{
 "metadata": {
  "language_info": {
   "codemirror_mode": {
    "name": "ipython",
    "version": 3
   },
   "file_extension": ".py",
   "mimetype": "text/x-python",
   "name": "python",
   "nbconvert_exporter": "python",
   "pygments_lexer": "ipython3",
   "version": "3.8.5"
  },
  "orig_nbformat": 2,
  "kernelspec": {
   "name": "python385jvsc74a57bd0919eb0904b72c37e8d6c7e3b2f7b6f162c89cafcc297fba09b2d10c79c52f5eb",
   "display_name": "Python 3.8.5 64-bit ('base': conda)"
  }
 },
 "nbformat": 4,
 "nbformat_minor": 2,
 "cells": [
  {
   "cell_type": "code",
   "execution_count": 4,
   "metadata": {},
   "outputs": [],
   "source": [
    "import pandas as pd\n",
    "from pandas import ExcelWriter\n",
    "from pandas import ExcelFile\n",
    "\n",
    "helm = pd.read_excel('sim_item_input.xlsx', sheet_name = \"Helm\")\n",
    "neck = pd.read_excel('sim_item_input.xlsx', sheet_name = 'Neck')\n",
    "shoulder = pd.read_excel('sim_item_input.xlsx', sheet_name = 'Shoulder')\n",
    "back = pd.read_excel('sim_item_input.xlsx', sheet_name = 'Back')\n",
    "chest = pd.read_excel('sim_item_input.xlsx', sheet_name = 'Chest')\n",
    "wrist = pd.read_excel('sim_item_input.xlsx', sheet_name = 'Bracer')\n",
    "hands = pd.read_excel('sim_item_input.xlsx', sheet_name = 'Hands')\n",
    "belt = pd.read_excel('sim_item_input.xlsx', sheet_name = 'Belt')\n",
    "legs = pd.read_excel('sim_item_input.xlsx', sheet_name = 'Legs')\n",
    "boots = pd.read_excel('sim_item_input.xlsx', sheet_name = 'Boots')\n",
    "rings = pd.read_excel('sim_item_input.xlsx', sheet_name = 'Rings')\n",
    "trinket = pd.read_excel('sim_item_input.xlsx', sheet_name = 'Trinket')\n",
    "ranged = pd.read_excel('sim_item_input.xlsx', sheet_name = 'Ranged')\n",
    "mainhand = pd.read_excel('sim_item_input.xlsx', sheet_name = 'Mainhand')\n",
    "offhand = pd.read_excel('sim_item_input.xlsx', sheet_name = 'Offhand')\n"
   ]
  },
  {
   "cell_type": "code",
   "execution_count": 41,
   "metadata": {},
   "outputs": [],
   "source": [
    "helm_list = helm.values.tolist()"
   ]
  },
  {
   "cell_type": "code",
   "execution_count": 53,
   "metadata": {},
   "outputs": [
    {
     "output_type": "error",
     "ename": "TypeError",
     "evalue": "list indices must be integers or slices, not list",
     "traceback": [
      "\u001b[1;31m---------------------------------------------------------------------------\u001b[0m",
      "\u001b[1;31mTypeError\u001b[0m                                 Traceback (most recent call last)",
      "\u001b[1;32m<ipython-input-53-2307f1732b41>\u001b[0m in \u001b[0;36m<module>\u001b[1;34m\u001b[0m\n\u001b[0;32m      1\u001b[0m \u001b[1;32mfor\u001b[0m \u001b[0mi\u001b[0m \u001b[1;32min\u001b[0m \u001b[0mhelm_list\u001b[0m\u001b[1;33m[\u001b[0m\u001b[1;33m:\u001b[0m\u001b[1;33m]\u001b[0m\u001b[1;33m:\u001b[0m\u001b[1;33m\u001b[0m\u001b[1;33m\u001b[0m\u001b[0m\n\u001b[1;32m----> 2\u001b[1;33m     \u001b[0msocket\u001b[0m \u001b[1;33m=\u001b[0m \u001b[0mhelm_list\u001b[0m\u001b[1;33m[\u001b[0m\u001b[0mi\u001b[0m\u001b[1;33m]\u001b[0m\u001b[1;33m[\u001b[0m\u001b[1;36m0\u001b[0m\u001b[1;33m]\u001b[0m\u001b[1;33m\u001b[0m\u001b[1;33m\u001b[0m\u001b[0m\n\u001b[0m\u001b[0;32m      3\u001b[0m     \u001b[0mhelm_list\u001b[0m\u001b[1;33m.\u001b[0m\u001b[0mremove\u001b[0m\u001b[1;33m(\u001b[0m\u001b[0msocket\u001b[0m\u001b[1;33m)\u001b[0m\u001b[1;33m\u001b[0m\u001b[1;33m\u001b[0m\u001b[0m\n\u001b[0;32m      4\u001b[0m     \u001b[0mhelm_list\u001b[0m\u001b[1;33m.\u001b[0m\u001b[0minsert\u001b[0m\u001b[1;33m(\u001b[0m\u001b[1;36m8\u001b[0m\u001b[1;33m,\u001b[0m \u001b[0msocket\u001b[0m\u001b[1;33m)\u001b[0m\u001b[1;33m\u001b[0m\u001b[1;33m\u001b[0m\u001b[0m\n\u001b[0;32m      5\u001b[0m \u001b[0mprint\u001b[0m\u001b[1;33m(\u001b[0m\u001b[0mhelm_list\u001b[0m\u001b[1;33m)\u001b[0m\u001b[1;33m\u001b[0m\u001b[1;33m\u001b[0m\u001b[0m\n",
      "\u001b[1;31mTypeError\u001b[0m: list indices must be integers or slices, not list"
     ]
    }
   ],
   "source": [
    "j = 0\n",
    "for i in helm_list[:]:\n",
    "    socket = helm_list[j][0]\n",
    "    j++\n",
    "    helm_list.remove(socket)\n",
    "    helm_list.insert(8, socket)\n",
    "print(helm_list)\n"
   ]
  },
  {
   "cell_type": "code",
   "execution_count": null,
   "metadata": {},
   "outputs": [],
   "source": []
  }
 ]
}