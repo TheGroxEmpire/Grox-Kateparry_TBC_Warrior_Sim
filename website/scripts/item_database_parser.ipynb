{
 "metadata": {
  "language_info": {
   "codemirror_mode": {
    "name": "ipython",
    "version": 3
   },
   "file_extension": ".py",
   "mimetype": "text/x-python",
   "name": "python",
   "nbconvert_exporter": "python",
   "pygments_lexer": "ipython3",
   "version": "3.8.5"
  },
  "orig_nbformat": 2,
  "kernelspec": {
   "name": "python385jvsc74a57bd0919eb0904b72c37e8d6c7e3b2f7b6f162c89cafcc297fba09b2d10c79c52f5eb",
   "display_name": "Python 3.8.5 64-bit ('base': conda)"
  },
  "metadata": {
   "interpreter": {
    "hash": "09f70c98b52ab0ffef8241d19dc76209850b83bef69ede9a2890da399a1302dd"
   }
  }
 },
 "nbformat": 4,
 "nbformat_minor": 2,
 "cells": [
  {
   "cell_type": "code",
   "execution_count": 1,
   "metadata": {},
   "outputs": [],
   "source": [
    "import pandas as pd\n",
    "import numpy as np"
   ]
  },
  {
   "cell_type": "code",
   "execution_count": 57,
   "metadata": {},
   "outputs": [],
   "source": [
    "sheet_id = \"1VtBx4rPRTexYdBTFCitKvflf4T_7QBY_yHFnMr0BHtA\"\n",
    "#sheet_name = 'Helm'\n",
    "#sheet_name = 'Neck'\n",
    "#sheet_name = 'Shoulder'\n",
    "#sheet_name = 'Back'\n",
    "#sheet_name = 'Chest'\n",
    "#sheet_name = 'Bracer'\n",
    "#sheet_name = 'Hands'\n",
    "#sheet_name = 'Belt'\n",
    "#sheet_name = 'Legs'\n",
    "#sheet_name = 'Boots'\n",
    "#sheet_name = 'Rings'\n",
    "#sheet_name = 'Trinket'\n",
    "#sheet_name = 'Ranged'\n",
    "#sheet_name = 'Mainhand'\n",
    "#sheet_name = 'Offhand'\n",
    "sheet_name = 'Twohand'\n",
    "url = f\"https://docs.google.com/spreadsheets/d/{sheet_id}/gviz/tq?tqx=out:csv&sheet={sheet_name}\"\n",
    "df = pd.read_csv(url)\n",
    "df = df.fillna(0)\n",
    "\n",
    "slot = df['Slot'].tolist()\n",
    "slot_string = list(map(str, slot))\n",
    "\n",
    "name = df['Name'].tolist()\n",
    "name_string = list(map(str, name))\n",
    "\n",
    "strength = df['Str'].tolist()\n",
    "strength_string = list(map(str, strength))\n",
    "\n",
    "agi = df['Agi'].tolist()\n",
    "agi_string = list(map(str, agi))\n",
    "\n",
    "crit = df['Crit'].tolist()\n",
    "crit = [number / 22.08 for number in crit]\n",
    "crit_string = list(map(str, crit))\n",
    "\n",
    "hit = df['Hit'].tolist()\n",
    "hit = [number / 15.77 for number in hit]\n",
    "hit_string = list(map(str, hit))\n",
    "\n",
    "attack_power = df['AP'].tolist()\n",
    "ap_string = list(map(str, attack_power))\n",
    "\n",
    "haste = df['Haste'].tolist()\n",
    "haste = [number / 15.77 / 100 for number in haste]\n",
    "haste_string = list(map(str, haste))\n",
    "\n",
    "expertise = df['Expertise'].tolist()\n",
    "expertise = [number / 3.9425 for number in expertise]\n",
    "expertise_string = list(map(str, expertise))\n",
    "\n",
    "ignore_armor = df['Ignore Armor'].tolist()\n",
    "arp_string = list(map(str, ignore_armor))\n"
   ]
  },
  {
   "cell_type": "code",
   "execution_count": 52,
   "metadata": {},
   "outputs": [
    {
     "output_type": "stream",
     "name": "stdout",
     "text": [
      "{\"barrel_blade_longrifle\", Attributes{0.0, 16.0}, Special_stats{0.0, 0.0, 0.0, 0, 0.0}, Socket::ranged}, \n{\"sunfury_bow_of_the_phoenix\", Attributes{0.0, 19.0}, Special_stats{0.0, 0.0, 34.0, 0, 0.0}, Socket::ranged}, \n{\"mamas_insurance\", Attributes{0.0, 10.0}, Special_stats{0.27173913043478265, 0.0, 32.0, 0, 0.0}, Socket::ranged}, \n{\"xavian_stiletto\", Attributes{0.0, 0.0}, Special_stats{0.9057971014492754, 0.7609384908053266, 0.0, 0, 0.0}, Socket::ranged}, \n{\"marksmans_bow\", Attributes{0.0, 12.0}, Special_stats{0.0, 0.6975269499048827, 22.0, 0, 0.0}, Socket::ranged}, \n{\"felsteel_whisper_knives\", Attributes{0.0, 0.0}, Special_stats{0.4528985507246377, 0.6341154090044389, 20.0, 0, 0.0}, Socket::ranged}, \n{\"wolfslayer_sniper_rifle\", Attributes{0.0, 15.0}, Special_stats{0.0, 0.0, 32.0, 0, 0.0}, Socket::ranged}, \n{\"steelhawk_crossbow\", Attributes{0.0, 0.0}, Special_stats{0.0, 1.0145846544071022, 30.0, 0, 0.0}, Socket::ranged}, \n{\"nerubian_slavemaker\", Attributes{0.0, 0.0}, Special_stats{0.6340579710144928, 0.0, 24.0, 0, 0.0}, Socket::ranged}, \n{\"emberhawk_crossbow\", Attributes{0.0, 0.0}, Special_stats{0.8152173913043479, 0.0, 14.0, 0, 0.0}, Socket::ranged}, \n{\"wrathfire_hand_cannon\", Attributes{0.0, 0.0}, Special_stats{0.4528985507246377, 0.0, 30.0, 0, 0.0}, Socket::ranged}, \n{\"wrathtide_longbow\", Attributes{0.0, 14.0}, Special_stats{0.0, 0.0, 28.0, 0, 0.0}, Socket::ranged}, \n{\"hemets_elekk_gun\", Attributes{0.0, 0.0}, Special_stats{0.5434782608695653, 0.0, 24.0, 0, 0.0}, Socket::ranged}, \n{\"telescropic_sharprifle\", Attributes{0.0, 13.0}, Special_stats{0.0, 0.0, 28.0, 0, 0.0}, Socket::ranged}, \n{\"larvae_of_the_great_worm\", Attributes{0.0, 0.0}, Special_stats{0.6340579710144928, 0.0, 18.0, 0, 0.0}, Socket::ranged}, \n{\"gladiators_war_edge\", Attributes{0.0, 0.0}, Special_stats{0.4981884057971015, 0.0, 24.0, 0, 0.0}, Socket::ranged}, \n\n"
     ]
    }
   ],
   "source": [
    "#Armor and trinkets\n",
    "i = 0\n",
    "lines = []\n",
    "while i < len(slot):\n",
    "    lines.append('{\"' + name_string[i] + '\", ')\n",
    "    lines.append('Attributes{' + strength_string[i]  + ', ' + agi_string[i] + '}, ')\n",
    "    if (ignore_armor[i] > 0):\n",
    "        lines.append('Special_stats{' + crit_string[i] + ', ' + hit_string[i] + ', ' +                ap_string[i] + ', ' + '0, ' + haste_string[i] + '0, ' + '0, ' + '0, ' + '0, ' + '0, ' + '0, ' + expertise_string[i] + ', ' + '0, ' + '0, ' + '0, ' +               arp_string[i] + '}, ')\n",
    "    elif (expertise[i] > 0):\n",
    "        lines.append('Special_stats{' + crit_string[i] + ', ' + hit_string[i] + ', ' +                ap_string[i] + ', ' + '0, ' + haste_string[i] + '0, ' + '0, ' + '0, ' + '0, ' + '0, ' + '0, ' + expertise_string[i] + '}, ')\n",
    "    else:\n",
    "         lines.append('Special_stats{' + crit_string[i] + ', ' + hit_string[i] + ', ' + ap_string[i] + ', ' + '0, ' + haste_string[i] + '}, ')\n",
    "    \n",
    "    lines.append(slot_string[i] + '}, \\n')\n",
    "    i += 1\n",
    "print(*lines, sep='')"
   ]
  },
  {
   "cell_type": "code",
   "execution_count": null,
   "metadata": {},
   "outputs": [],
   "source": []
  },
  {
   "cell_type": "code",
   "execution_count": 58,
   "metadata": {},
   "outputs": [],
   "source": [
    "#Weapons\n",
    "weapon_type = df['Weapon Type'].tolist()\n",
    "weapon_type_string = list(map(str, weapon_type))\n",
    "\n",
    "speed = df['Speed'].tolist()\n",
    "speed_string = list(map(str, speed))\n",
    "\n",
    "low_end = df['Low end'].tolist()\n",
    "low_end_string = list(map(str, low_end))\n",
    "\n",
    "top_end = df['Top end'].tolist()\n",
    "top_end_string = list(map(str, top_end))\n",
    "\n",
    "swords = []\n",
    "axes = []\n",
    "daggers = []\n",
    "maces = []\n",
    "fists = []\n",
    "i = 0\n",
    "while i < len(slot):\n",
    "    if (weapon_type_string[i] == \"Weapon_type::sword\"):\n",
    "        swords.append('{\"' + name_string[i] + '\", ')\n",
    "        swords.append('Attributes{' + strength_string[i]  + ', ' + agi_string[i] + '}, ')\n",
    "        if (ignore_armor[i] > 0):\n",
    "            swords.append('Special_stats{' + crit_string[i] + ', ' + hit_string[i] + ', ' +                ap_string[i] + ', ' + '0, ' + haste_string[i] + '0, ' + '0, ' + '0, ' + '0, ' + '0, ' + '0, ' + expertise_string[i] + ', ' + '0, ' + '0, ' + '0, ' +               arp_string[i] + '}, ')\n",
    "        elif (expertise[i] > 0):\n",
    "            swords.append('Special_stats{' + crit_string[i] + ', ' + hit_string[i] + ', ' +                ap_string[i] + ', ' + '0, ' + haste_string[i] + '0, ' + '0, ' + '0, ' + '0, ' + '0, ' + '0, ' + expertise_string[i] + '}, ')\n",
    "        else:\n",
    "            swords.append('Special_stats{' + crit_string[i] + ', ' + hit_string[i] + ', ' + ap_string[i] + ', ' + '0, ' + haste_string[i] + '}, ')\n",
    "        \n",
    "        swords.append(speed_string[i] + ', ' + low_end_string[i] + ', ' + top_end_string[i] + ', ')\n",
    "        swords.append(slot_string[i] + ', ' + weapon_type_string[i] + '}, \\n')\n",
    "\n",
    "    elif (weapon_type_string[i] == \"Weapon_type::axe\" or weapon_type_string[i] == \"Weapon_type::polearm\"):\n",
    "        axes.append('{\"' + name_string[i] + '\", ')\n",
    "        axes.append('Attributes{' + strength_string[i]  + ', ' + agi_string[i] + '}, ')\n",
    "        if (ignore_armor[i] > 0):\n",
    "            axes.append('Special_stats{' + crit_string[i] + ', ' + hit_string[i] + ', ' +                ap_string[i] + ', ' + '0, ' + haste_string[i] + '0, ' + '0, ' + '0, ' + '0, ' + '0, ' + '0, ' + expertise_string[i] + ', ' + '0, ' + '0, ' + '0, ' +               arp_string[i] + '}, ')\n",
    "        elif (expertise[i] > 0):\n",
    "            axes.append('Special_stats{' + crit_string[i] + ', ' + hit_string[i] + ', ' +                ap_string[i] + ', ' + '0, ' + haste_string[i] + '0, ' + '0, ' + '0, ' + '0, ' + '0, ' + '0, ' + expertise_string[i] + '}, ')\n",
    "        else:\n",
    "            axes.append('Special_stats{' + crit_string[i] + ', ' + hit_string[i] + ', ' + ap_string[i] + ', ' + '0, ' + haste_string[i] + '}, ')\n",
    "        \n",
    "        axes.append(speed_string[i] + ', ' + low_end_string[i] + ', ' + top_end_string[i] + ', ')\n",
    "        axes.append(slot_string[i] + ', ' + weapon_type_string[i] + '}, \\n')\n",
    "\n",
    "    elif (weapon_type_string[i] == \"Weapon_type::dagger\"):\n",
    "        daggers.append('{\"' + name_string[i] + '\", ')\n",
    "        daggers.append('Attributes{' + strength_string[i]  + ', ' + agi_string[i] + '}, ')\n",
    "        if (ignore_armor[i] > 0):\n",
    "            daggers.append('Special_stats{' + crit_string[i] + ', ' + hit_string[i] + ', ' +                ap_string[i] + ', ' + '0, ' + haste_string[i] + '0, ' + '0, ' + '0, ' + '0, ' + '0, ' + '0, ' + expertise_string[i] + ', ' + '0, ' + '0, ' + '0, ' +               arp_string[i] + '}, ')\n",
    "        elif (expertise[i] > 0):\n",
    "            daggers.append('Special_stats{' + crit_string[i] + ', ' + hit_string[i] + ', ' +                ap_string[i] + ', ' + '0, ' + haste_string[i] + '0, ' + '0, ' + '0, ' + '0, ' + '0, ' + '0, ' + expertise_string[i] + '}, ')\n",
    "        else:\n",
    "            daggers.append('Special_stats{' + crit_string[i] + ', ' + hit_string[i] + ', ' + ap_string[i] + ', ' + '0, ' + haste_string[i] + '}, ')\n",
    "        \n",
    "        daggers.append(speed_string[i] + ', ' + low_end_string[i] + ', ' + top_end_string[i] + ', ')\n",
    "        daggers.append(slot_string[i] + ', ' + weapon_type_string[i] + '}, \\n')\n",
    "\n",
    "    elif (weapon_type_string[i] == \"Weapon_type::mace\"):\n",
    "        maces.append('{\"' + name_string[i] + '\", ')\n",
    "        maces.append('Attributes{' + strength_string[i]  + ', ' + agi_string[i] + '}, ')\n",
    "        if (ignore_armor[i] > 0):\n",
    "            maces.append('Special_stats{' + crit_string[i] + ', ' + hit_string[i] + ', ' +                ap_string[i] + ', ' + '0, ' + haste_string[i] + '0, ' + '0, ' + '0, ' + '0, ' + '0, ' + '0, ' + expertise_string[i] + ', ' + '0, ' + '0, ' + '0, ' +               arp_string[i] + '}, ')\n",
    "        elif (expertise[i] > 0):\n",
    "            maces.append('Special_stats{' + crit_string[i] + ', ' + hit_string[i] + ', ' +                ap_string[i] + ', ' + '0, ' + haste_string[i] + '0, ' + '0, ' + '0, ' + '0, ' + '0, ' + '0, ' + expertise_string[i] + '}, ')\n",
    "        else:\n",
    "            maces.append('Special_stats{' + crit_string[i] + ', ' + hit_string[i] + ', ' + ap_string[i] + ', ' + '0, ' + haste_string[i] + '}, ')\n",
    "        \n",
    "        maces.append(speed_string[i] + ', ' + low_end_string[i] + ', ' + top_end_string[i] + ', ')\n",
    "        maces.append(slot_string[i] + ', ' + weapon_type_string[i] + '}, \\n')    \n",
    "\n",
    "    elif (weapon_type_string[i] == \"Weapon_type::unarmed\"):\n",
    "            fists.append('{\"' + name_string[i] + '\", ')\n",
    "            fists.append('Attributes{' + strength_string[i]  + ', ' + agi_string[i] + '}, ')\n",
    "            if (ignore_armor[i] > 0):\n",
    "                fists.append('Special_stats{' + crit_string[i] + ', ' + hit_string[i] + ', ' +                ap_string[i] + ', ' + '0, ' + haste_string[i] + '0, ' + '0, ' + '0, ' + '0, ' + '0, ' + '0, ' + expertise_string[i] + ', ' + '0, ' + '0, ' + '0, ' +               arp_string[i] + '}, ')\n",
    "            elif (expertise[i] > 0):\n",
    "                fists.append('Special_stats{' + crit_string[i] + ', ' + hit_string[i] + ', ' +                ap_string[i] + ', ' + '0, ' + haste_string[i] + '0, ' + '0, ' + '0, ' + '0, ' + '0, ' + '0, ' + expertise_string[i] + '}, ')\n",
    "            else:\n",
    "                fists.append('Special_stats{' + crit_string[i] + ', ' + hit_string[i] + ', ' + ap_string[i] + ', ' + '0, ' + haste_string[i] + '}, ')\n",
    "            \n",
    "            fists.append(speed_string[i] + ', ' + low_end_string[i] + ', ' + top_end_string[i] + ', ')\n",
    "            fists.append(slot_string[i] + ', ' + weapon_type_string[i] + '}, \\n')    \n",
    "\n",
    "    i += 1"
   ]
  },
  {
   "cell_type": "code",
   "execution_count": 59,
   "metadata": {},
   "outputs": [
    {
     "output_type": "stream",
     "name": "stdout",
     "text": [
      "{\"bloodmoon\", Attributes{0.0, 0.0}, Special_stats{2.536231884057971, 0.0, 112.0, 0, 0.0}, 3.7, 375, 564, Weapon_socket::two_hand, Weapon_type::axe}, \n{\"mooncleaver\", Attributes{0.0, 0.0}, Special_stats{2.355072463768116, 0.0, 106.0, 0, 0.0}, 3.7, 351, 527, Weapon_socket::two_hand, Weapon_type::axe}, \n{\"ethereum_nexus_reaver\", Attributes{50.0, 0.0}, Special_stats{1.358695652173913, 0.0, 0.0, 0, 0.0}, 3.7, 346, 519, Weapon_socket::two_hand, Weapon_type::axe}, \n{\"gorehowl\", Attributes{49.0, 43.0}, Special_stats{0.0, 0.0, 0.0, 0, 0.0}, 3.6, 345, 518, Weapon_socket::two_hand, Weapon_type::axe}, \n{\"gladiators_decapitator\", Attributes{0.0, 0.0}, Special_stats{1.585144927536232, 1.2682308180088777, 64.0, 0, 0.0}, 3.6, 341, 513, Weapon_socket::two_hand, Weapon_type::axe}, \n{\"axe_of_the_gronn_lords\", Attributes{0.0, 0.0}, Special_stats{0.0, 0.0, 124.0, 0, 0.0}, 3.6, 345, 518, Weapon_socket::two_hand, Weapon_type::axe}, \n{\"glaive_of_the_pit\", Attributes{0.0, 0.0}, Special_stats{0.1811594202898551, 0.0, 0.0, 0, 0.0}, 3.7, 354, 532, Weapon_socket::two_hand, Weapon_type::polearm}, \n{\"legacy\", Attributes{0.0, 40.0}, Special_stats{0.0, 0.0, 80.0, 0, 0.0}, 3.5, 319, 479, Weapon_socket::two_hand, Weapon_type::axe}, \n{\"lunar_crescent\", Attributes{0.0, 0.0}, Special_stats{2.1286231884057973, 0.0, 96.0, 0, 0.0}, 3.7, 324, 487, Weapon_socket::two_hand, Weapon_type::axe}, \n{\"felsteel_reaper\", Attributes{0.0, 0.0}, Special_stats{1.358695652173913, 0.0, 112.0, 0, 0.0}, 3.4, 295, 443, Weapon_socket::two_hand, Weapon_type::axe}, \n{\"trident_of_the_outcast_tribe\", Attributes{37.0, 0.0}, Special_stats{0.0, 2.28281547241598, 0.0, 0, 0.0}, 3.2, 270, 406, Weapon_socket::two_hand, Weapon_type::polearm}, \n{\"singing_crystal_axe\", Attributes{0.0, 0.0}, Special_stats{0.0, 0.0, 0.0, 0, 0.04248573240329741}, 3.5, 295, 444, Weapon_socket::two_hand, Weapon_type::axe}, \n{\"blackened_spear\", Attributes{0.0, 26.0}, Special_stats{0.0, 1.2048192771084338, 92.0, 0, 0.0}, 3.5, 261, 392, Weapon_socket::two_hand, Weapon_type::polearm}, \n{\"sonic_spear\", Attributes{0.0, 35.0}, Special_stats{0.0, 1.5218769816106532, 62.0, 0, 0.0}, 3.5, 261, 392, Weapon_socket::two_hand, Weapon_type::polearm}, \n{\"apexis_cleaver\", Attributes{46.0, 0.0}, Special_stats{0.8605072463768116, 0.0, 0.0, 0, 0.0}, 3.6, 268, 403, Weapon_socket::two_hand, Weapon_type::axe}, \n{\"hellscreams_will\", Attributes{0.0, 0.0}, Special_stats{0.0, 2.663284717818643, 84.0, 0, 0.0}, 3.5, 261, 392, Weapon_socket::two_hand, Weapon_type::axe}, \n{\"crow_wing_reaper\", Attributes{28.0, 17.0}, Special_stats{0.0, 0.0, 0.0, 0, 0.0}, 3.4, 253, 381, Weapon_socket::two_hand, Weapon_type::axe}, \n{\"reaver_of_the_infinites\", Attributes{0.0, 0.0}, Special_stats{0.0, 0.0, 50.0, 0, 0.0}, 3.6, 268, 403, Weapon_socket::two_hand, Weapon_type::axe}, \n{\"crystalforged_war_axe\", Attributes{0.0, 0.0}, Special_stats{1.2228260869565217, 0.0, 80.0, 0, 0.0}, 3.5, 253, 380, Weapon_socket::two_hand, Weapon_type::axe}, \n{\"terokks_quill\", Attributes{0.0, 54.0}, Special_stats{0.0, 0.0, 0.0, 0, 0.0}, 3.3, 246, 370, Weapon_socket::two_hand, Weapon_type::polearm}, \n\n"
     ]
    }
   ],
   "source": [
    "print(*axes, sep='')"
   ]
  },
  {
   "cell_type": "code",
   "execution_count": null,
   "metadata": {},
   "outputs": [],
   "source": []
  }
 ]
}