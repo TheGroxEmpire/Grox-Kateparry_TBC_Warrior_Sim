{
 "cells": [
  {
   "cell_type": "code",
   "execution_count": 2,
   "metadata": {},
   "outputs": [],
   "source": [
    "import pandas as pd\n",
    "import numpy as np"
   ]
  },
  {
   "cell_type": "code",
   "execution_count": 27,
   "metadata": {},
   "outputs": [],
   "source": [
    "sheet_id = \"12zNYGcPvxkob2-kJmeJNTRe12wPT22wbRA99-X47rRA\"\n",
    "#sheet_name = 'Helmet'\n",
    "#sheet_name = 'Neck'\n",
    "#sheet_name = 'Shoulder'\n",
    "#sheet_name = 'Back'\n",
    "#sheet_name = 'Chest'\n",
    "#sheet_name = 'Bracer'\n",
    "#sheet_name = 'Hands'\n",
    "#sheet_name = 'Belt'\n",
    "#sheet_name = 'Legs'\n",
    "#sheet_name = 'Boots'\n",
    "#sheet_name = 'Rings'\n",
    "#sheet_name = 'Trinket'\n",
    "sheet_name = 'Ranged'\n",
    "#sheet_name = 'Mainhand'\n",
    "#sheet_name = 'Offhand'\n",
    "#sheet_name = 'Twohand'\n",
    "url = f\"https://docs.google.com/spreadsheets/d/{sheet_id}/gviz/tq?tqx=out:csv&sheet={sheet_name}\"\n",
    "df = pd.read_csv(url)\n",
    "df = df.fillna(0)\n",
    "\n",
    "slot = df['Slot'].tolist()\n",
    "slot_string = list(map(str, slot))\n",
    "\n",
    "name = df['Name'].tolist()\n",
    "name_string = list(map(str, name))\n",
    "\n",
    "strength = df['Str'].tolist()\n",
    "strength_string = list(map(str, strength))\n",
    "\n",
    "agi = df['Agi'].tolist()\n",
    "agi_string = list(map(str, agi))\n",
    "\n",
    "crit = df['Crit'].tolist()\n",
    "crit = [number / 22.08 for number in crit]\n",
    "crit_string = list(map(str, crit))\n",
    "\n",
    "hit = df['Hit'].tolist()\n",
    "hit = [number / 15.77 for number in hit]\n",
    "hit_string = list(map(str, hit))\n",
    "\n",
    "attack_power = df['AP'].tolist()\n",
    "ap_string = list(map(str, attack_power))\n",
    "\n",
    "haste = df['Haste'].tolist()\n",
    "haste = [number / 15.77 / 100 for number in haste]\n",
    "haste_string = list(map(str, haste))\n",
    "\n",
    "expertise = df['Expertise'].tolist()\n",
    "expertise = [number / 3.9425 for number in expertise]\n",
    "expertise_string = list(map(str, expertise))\n",
    "\n",
    "ignore_armor = df['Ignore Armor'].tolist()\n",
    "arp_string = list(map(str, ignore_armor))"
   ]
  },
  {
   "cell_type": "code",
   "execution_count": 28,
   "metadata": {},
   "outputs": [
    {
     "name": "stdout",
     "output_type": "stream",
     "text": [
      "{\"thoridal_the_stars_fury\", Attributes{0.0, 17.0}, Special_stats{0.7246376811594204, 0.0, 34, 0, 0.00, 0, 0, 0, 0, 0, 0, 0.0, 0, 0, 0, 112}, Socket::ranged}, \n",
      "{\"golden_bow_of_quelthalas\", Attributes{0.0, 18.0}, Special_stats{0.0, 0.0, 34, 0, 0.00, 0, 0, 0, 0, 0, 0, 0.0, 0, 0, 0, 175}, Socket::ranged}, \n",
      "{\"blade_of_lifes_inevitability\", Attributes{0.0, 0.0}, Special_stats{0.0, 0.0, 36, 0, 0.010145846544071023}, Socket::ranged}, \n",
      "{\"crossbow_of_relentless_strikes\", Attributes{0.0, 0.0}, Special_stats{0.8152173913043479, 0.8877615726062144, 32, 0, 0.0}, Socket::ranged}, \n",
      "\n"
     ]
    }
   ],
   "source": [
    "# Armor and trinkets\n",
    "\n",
    "i = 0\n",
    "lines = []\n",
    "while i < len(slot):\n",
    "    lines.append('{\"' + name_string[i] + '\", ')\n",
    "    lines.append('Attributes{' + strength_string[i]  + ', ' + agi_string[i] + '}, ')\n",
    "    if (ignore_armor[i] > 0):\n",
    "        arp_string[i] = str(int(ignore_armor[i]))\n",
    "        lines.append('Special_stats{' + crit_string[i] + ', ' + hit_string[i] + ', ' +                ap_string[i] + ', ' + '0, ' + haste_string[i] + '0, ' + '0, ' + '0, ' + '0, ' + '0, ' + '0, ' + '0, ' + expertise_string[i] + ', ' + '0, ' + '0, ' + '0, ' +               arp_string[i] + '}, ')\n",
    "    elif (expertise[i] > 0):\n",
    "        lines.append('Special_stats{' + crit_string[i] + ', ' + hit_string[i] + ', ' +                ap_string[i] + ', ' + '0, ' + haste_string[i] + '0, ' + '0, ' + '0, ' + '0, ' + '0, ' + '0, ' + '0, ' + expertise_string[i] + '}, ')\n",
    "    else:\n",
    "         lines.append('Special_stats{' + crit_string[i] + ', ' + hit_string[i] + ', ' + ap_string[i] + ', ' + '0, ' + haste_string[i] + '}, ')\n",
    "    \n",
    "    lines.append(slot_string[i] + '}, \\n')\n",
    "    i += 1\n",
    "print(*lines, sep='')"
   ]
  },
  {
   "cell_type": "code",
   "execution_count": 15,
   "metadata": {},
   "outputs": [],
   "source": [
    "#Weapons\n",
    "weapon_type = df['Weapon Type'].tolist()\n",
    "weapon_type_string = list(map(str, weapon_type))\n",
    "\n",
    "speed = df['Speed'].tolist()\n",
    "speed_string = list(map(str, speed))\n",
    "\n",
    "low_end = df['Low end'].tolist()\n",
    "low_end_string = list(map(str, low_end))\n",
    "\n",
    "top_end = df['Top end'].tolist()\n",
    "top_end_string = list(map(str, top_end))\n",
    "\n",
    "swords = []\n",
    "axes = []\n",
    "daggers = []\n",
    "maces = []\n",
    "fists = []\n",
    "i = 0\n",
    "while i < len(slot):\n",
    "    if (weapon_type_string[i] == \"Weapon_type::sword\"):\n",
    "        swords.append('{\"' + name_string[i] + '\", ')\n",
    "        swords.append('Attributes{' + strength_string[i]  + ', ' + agi_string[i] + '}, ')\n",
    "        if (ignore_armor[i] > 0):\n",
    "            arp_string[i] = str(int(ignore_armor[i]))\n",
    "            swords.append('Special_stats{' + crit_string[i] + ', ' + hit_string[i] + ', ' +                ap_string[i] + ', ' + '0, ' + haste_string[i] + '0, ' + '0, ' + '0, ' + '0, ' + '0, ' + '0, ' + '0, ' + '0, ' + expertise_string[i] + ', ' + '0, ' + '0, ' + '0, ' +               arp_string[i] + '}, ')\n",
    "        elif (expertise[i] > 0):\n",
    "            swords.append('Special_stats{' + crit_string[i] + ', ' + hit_string[i] + ', ' +                ap_string[i] + ', ' + '0, ' + haste_string[i] + '0, ' + '0, ' + '0, ' + '0, ' + '0, ' + '0, ' + '0, ' + '0, ' + expertise_string[i] + '}, ')\n",
    "        else:\n",
    "            swords.append('Special_stats{' + crit_string[i] + ', ' + hit_string[i] + ', ' + ap_string[i] + ', ' + '0, ' + haste_string[i] + '}, ')\n",
    "        \n",
    "        swords.append(speed_string[i] + ', ' + low_end_string[i] + ', ' + top_end_string[i] + ', ')\n",
    "        swords.append(slot_string[i] + ', ' + weapon_type_string[i] + '}, \\n')\n",
    "\n",
    "    elif (weapon_type_string[i] == \"Weapon_type::axe\" or weapon_type_string[i] == \"Weapon_type::polearm\"):\n",
    "        axes.append('{\"' + name_string[i] + '\", ')\n",
    "        axes.append('Attributes{' + strength_string[i]  + ', ' + agi_string[i] + '}, ')\n",
    "        if (ignore_armor[i] > 0):\n",
    "            arp_string[i] = str(int(ignore_armor[i]))\n",
    "            axes.append('Special_stats{' + crit_string[i] + ', ' + hit_string[i] + ', ' +                ap_string[i] + ', ' + '0, ' + haste_string[i] + '0, ' + '0, ' + '0, ' + '0, ' + '0, ' + '0, ' + '0, ' + '0, ' + expertise_string[i] + ', ' + '0, ' + '0, ' + '0, ' +               arp_string[i] + '}, ')\n",
    "        elif (expertise[i] > 0):\n",
    "            axes.append('Special_stats{' + crit_string[i] + ', ' + hit_string[i] + ', ' +                ap_string[i] + ', ' + '0, ' + haste_string[i] + '0, ' + '0, ' + '0, ' + '0, ' + '0, ' + '0, ' + '0, ' + '0, ' + expertise_string[i] + '}, ')\n",
    "        else:\n",
    "            axes.append('Special_stats{' + crit_string[i] + ', ' + hit_string[i] + ', ' + ap_string[i] + ', ' + '0, ' + haste_string[i] + '}, ')\n",
    "        \n",
    "        axes.append(speed_string[i] + ', ' + low_end_string[i] + ', ' + top_end_string[i] + ', ')\n",
    "        axes.append(slot_string[i] + ', ' + weapon_type_string[i] + '}, \\n')\n",
    "\n",
    "    elif (weapon_type_string[i] == \"Weapon_type::dagger\"):\n",
    "        daggers.append('{\"' + name_string[i] + '\", ')\n",
    "        daggers.append('Attributes{' + strength_string[i]  + ', ' + agi_string[i] + '}, ')\n",
    "        if (ignore_armor[i] > 0):\n",
    "            arp_string[i] = str(int(ignore_armor[i]))\n",
    "            daggers.append('Special_stats{' + crit_string[i] + ', ' + hit_string[i] + ', ' +                ap_string[i] + ', ' + '0, ' + haste_string[i] + '0, ' + '0, ' + '0, ' + '0, ' + '0, ' + '0, ' + '0, ' + '0, ' + expertise_string[i] + ', ' + '0, ' + '0, ' + '0, ' +               arp_string[i] + '}, ')\n",
    "        elif (expertise[i] > 0):\n",
    "            daggers.append('Special_stats{' + crit_string[i] + ', ' + hit_string[i] + ', ' +                ap_string[i] + ', ' + '0, ' + haste_string[i] + '0, ' + '0, ' + '0, ' + '0, ' + '0, ' + '0, ' + '0, ' + '0, ' + expertise_string[i] + '}, ')\n",
    "        else:\n",
    "            daggers.append('Special_stats{' + crit_string[i] + ', ' + hit_string[i] + ', ' + ap_string[i] + ', ' + '0, ' + haste_string[i] + '}, ')\n",
    "        \n",
    "        daggers.append(speed_string[i] + ', ' + low_end_string[i] + ', ' + top_end_string[i] + ', ')\n",
    "        daggers.append(slot_string[i] + ', ' + weapon_type_string[i] + '}, \\n')\n",
    "\n",
    "    elif (weapon_type_string[i] == \"Weapon_type::mace\"):\n",
    "        maces.append('{\"' + name_string[i] + '\", ')\n",
    "        maces.append('Attributes{' + strength_string[i]  + ', ' + agi_string[i] + '}, ')\n",
    "        if (ignore_armor[i] > 0):\n",
    "            arp_string[i] = str(int(ignore_armor[i]))\n",
    "            maces.append('Special_stats{' + crit_string[i] + ', ' + hit_string[i] + ', ' +                ap_string[i] + ', ' + '0, ' + haste_string[i] + '0, ' + '0, ' + '0, ' + '0, ' + '0, ' + '0, ' + '0, ' + '0, ' + expertise_string[i] + ', ' + '0, ' + '0, ' + '0, ' +               arp_string[i] + '}, ')\n",
    "        elif (expertise[i] > 0):\n",
    "            maces.append('Special_stats{' + crit_string[i] + ', ' + hit_string[i] + ', ' +                ap_string[i] + ', ' + '0, ' + haste_string[i] + '0, ' + '0, ' + '0, ' + '0, ' + '0, ' + '0, ' + '0, ' + '0, ' + expertise_string[i] + '}, ')\n",
    "        else:\n",
    "            maces.append('Special_stats{' + crit_string[i] + ', ' + hit_string[i] + ', ' + ap_string[i] + ', ' + '0, ' + haste_string[i] + '}, ')\n",
    "        \n",
    "        maces.append(speed_string[i] + ', ' + low_end_string[i] + ', ' + top_end_string[i] + ', ')\n",
    "        maces.append(slot_string[i] + ', ' + weapon_type_string[i] + '}, \\n')    \n",
    "\n",
    "    elif (weapon_type_string[i] == \"Weapon_type::unarmed\"):\n",
    "            fists.append('{\"' + name_string[i] + '\", ')\n",
    "            fists.append('Attributes{' + strength_string[i]  + ', ' + agi_string[i] + '}, ')\n",
    "            if (ignore_armor[i] > 0):\n",
    "                arp_string[i] = str(int(ignore_armor[i]))\n",
    "                fists.append('Special_stats{' + crit_string[i] + ', ' + hit_string[i] + ', ' +                ap_string[i] + ', ' + '0, ' + haste_string[i] + '0, ' + '0, ' + '0, ' + '0, ' + '0, ' + '0, ' + '0, ' + '0, ' + expertise_string[i] + ', ' + '0, ' + '0, ' + '0, ' +               arp_string[i] + '}, ')\n",
    "            elif (expertise[i] > 0):\n",
    "                fists.append('Special_stats{' + crit_string[i] + ', ' + hit_string[i] + ', ' +                ap_string[i] + ', ' + '0, ' + haste_string[i] + '0, ' + '0, ' + '0, ' + '0, ' + '0, ' + '0, ' + '0, ' + '0, ' + expertise_string[i] + '}, ')\n",
    "            else:\n",
    "                fists.append('Special_stats{' + crit_string[i] + ', ' + hit_string[i] + ', ' + ap_string[i] + ', ' + '0, ' + haste_string[i] + '}, ')\n",
    "            \n",
    "            fists.append(speed_string[i] + ', ' + low_end_string[i] + ', ' + top_end_string[i] + ', ')\n",
    "            fists.append(slot_string[i] + ', ' + weapon_type_string[i] + '}, \\n')    \n",
    "\n",
    "    i += 1"
   ]
  },
  {
   "cell_type": "code",
   "execution_count": 22,
   "metadata": {},
   "outputs": [
    {
     "name": "stdout",
     "output_type": "stream",
     "text": [
      "{\"claw_of_molten_fury\", Attributes{0.0, 20.0}, Special_stats{0.0, 0.0, 38.0, 0, 0.0}, 2.7, 216, 325, Weapon_socket::main_hand, Weapon_type::unarmed}, \n",
      "\n"
     ]
    }
   ],
   "source": [
    "print(*fists, sep='')"
   ]
  },
  {
   "cell_type": "code",
   "execution_count": null,
   "metadata": {},
   "outputs": [],
   "source": []
  }
 ],
 "metadata": {
  "interpreter": {
   "hash": "919eb0904b72c37e8d6c7e3b2f7b6f162c89cafcc297fba09b2d10c79c52f5eb"
  },
  "kernelspec": {
   "display_name": "Python 3.8.5 64-bit ('base': conda)",
   "name": "python3"
  },
  "language_info": {
   "codemirror_mode": {
    "name": "ipython",
    "version": 3
   },
   "file_extension": ".py",
   "mimetype": "text/x-python",
   "name": "python",
   "nbconvert_exporter": "python",
   "pygments_lexer": "ipython3",
   "version": "3.9.7"
  },
  "metadata": {
   "interpreter": {
    "hash": "09f70c98b52ab0ffef8241d19dc76209850b83bef69ede9a2890da399a1302dd"
   }
  },
  "orig_nbformat": 2
 },
 "nbformat": 4,
 "nbformat_minor": 2
}
